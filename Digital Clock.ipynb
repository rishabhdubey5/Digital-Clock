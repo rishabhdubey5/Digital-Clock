{
 "cells": [
  {
   "cell_type": "code",
   "execution_count": null,
   "metadata": {},
   "outputs": [],
   "source": [
    "from time import strftime\n",
    "from tkinter import Label, Tk\n",
    "\n",
    "\n",
    "window = Tk()\n",
    "window.title(\"Rishabh\")\n",
    "window.geometry(\"200x80\")\n",
    "window.configure(bg=\"blue\")\n",
    "window.resizable(False, False)\n",
    "\n",
    "clock_label = Label(window, bg=\"black\", fg=\"white\", font = (\"Times\", 30, 'bold'))\n",
    "clock_label.place(x = 20, y = 20)\n",
    "\n",
    "def update_label():\n",
    "    current_time = strftime('%H: %M: %S')\n",
    "    clock_label.configure(text = current_time)\n",
    "    clock_label.after(80, update_label)\n",
    "\n",
    "update_label()\n",
    "window.mainloop()"
   ]
  },
  {
   "cell_type": "code",
   "execution_count": null,
   "metadata": {},
   "outputs": [],
   "source": []
  }
 ],
 "metadata": {
  "kernelspec": {
   "display_name": "Python 3",
   "language": "python",
   "name": "python3"
  },
  "language_info": {
   "codemirror_mode": {
    "name": "ipython",
    "version": 3
   },
   "file_extension": ".py",
   "mimetype": "text/x-python",
   "name": "python",
   "nbconvert_exporter": "python",
   "pygments_lexer": "ipython3",
   "version": "3.7.3"
  }
 },
 "nbformat": 4,
 "nbformat_minor": 2
}
